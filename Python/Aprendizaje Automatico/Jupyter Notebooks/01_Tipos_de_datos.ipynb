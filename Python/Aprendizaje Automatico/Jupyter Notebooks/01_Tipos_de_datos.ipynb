{
  "cells": [
    {
      "cell_type": "code",
      "execution_count": 15,
      "metadata": {
        "id": "H5A11DRoZz1p"
      },
      "outputs": [],
      "source": [
        "import pandas as pd\n",
        "import random"
      ]
    },
    {
      "cell_type": "markdown",
      "metadata": {
        "id": "ptYt2MQ8Ub-U"
      },
      "source": [
        "# Tipos de datos\n",
        "En este curso vamos a trabajar sobre el tipo de datos base, que además es posiblemente el más común de todos: **datos tabulados**.\n",
        "\n",
        "Cuando tenemos datos tabulados los ejemplos a partir de los cuales aprenderemos nuestro modelo se representan en una **tabla** donde:\n",
        "- cada fila es un ejemplo,\n",
        "- cada columna es un **atributo** de dicho ejemplo que ha sido medido en un proceso que no nos incumbe.\n",
        "\n",
        "En general, diremos que hay $N$ ejemplos y $D$ columnas.<br>\n",
        "La letra $D$ hace referencia a la dimensionalidad. Si pensamos que todo se terminará almacenando en un ordenador, entonces un ejemplo se puede ver como un vector de $D$ componentes, o sea un vector en un espacio $D$-dimensional.\n",
        "\n",
        "Aunque los datos se presenten en forma de tabla numérica, cada columna puede tener un caracter diferente. Así podemos distinguir entre:\n",
        "- atributos continuos\n",
        "- atributos discretos\n",
        "- atributos categóricos"
      ]
    },
    {
      "cell_type": "markdown",
      "metadata": {
        "id": "L9uMuXTiWYxI"
      },
      "source": [
        "## Atributos continuos\n",
        "\n",
        "Son aquellos atributos que pueden tomar cualquier valor en un intervalo de $\\mathbb R$.\n",
        "\n",
        "Algunos ejemplos del intervalo puede ser: $(-\\infty,+\\infty)$, $(a,+\\infty)$, $(-\\infty,a)$ o $(a,b)$."
      ]
    },
    {
      "cell_type": "code",
      "execution_count": 16,
      "metadata": {
        "colab": {
          "base_uri": "https://localhost:8080/"
        },
        "id": "b6AzzvLtZw6a",
        "outputId": "0a2dc063-1301-4bfa-fa0d-8781886081ce"
      },
      "outputs": [
        {
          "name": "stdout",
          "output_type": "stream",
          "text": [
            "   Atributo 1  Atributo 2\n",
            "0    0.064457    0.588568\n",
            "1    0.193589    0.004600\n",
            "2    0.111972    0.462281\n",
            "3    0.638090    0.761807\n",
            "4    0.976907    0.272986\n",
            "5    0.519408    0.145943\n",
            "6    0.626601    0.739445\n",
            "7    0.068321    0.774807\n",
            "8    0.253299    0.755097\n",
            "9    0.862840    0.225714\n"
          ]
        }
      ],
      "source": [
        "# Este código genera un pandas dataframe con 10 ejemplos de 2 atributos continuos\n",
        "# en el intervalo (0,1) generados de manera aleatoria\n",
        "\n",
        "N = 10\n",
        "df_continuo = pd.DataFrame({\n",
        "    'Atributo 1': [random.uniform(0, 1) for _ in range(N)],\n",
        "    'Atributo 2': [random.uniform(0, 1) for _ in range(N)]\n",
        "})\n",
        "\n",
        "print(df_continuo)"
      ]
    },
    {
      "cell_type": "markdown",
      "metadata": {
        "id": "XnyIV8oPWc1N"
      },
      "source": [
        "## Atributos discretos\n",
        "Son aquellos atributos que pueden tomar solo un número finito de valores dentro de un intervalo $(a,b)$.\n",
        "\n",
        "Los atributos booleanos son un caso particular de atributos discretos donde los únicos valores posibles son {0, 1}."
      ]
    },
    {
      "cell_type": "code",
      "execution_count": 17,
      "metadata": {
        "colab": {
          "base_uri": "https://localhost:8080/"
        },
        "id": "vZ7ftp-1bHEP",
        "outputId": "81d2be1d-f014-4134-92bc-2fa20e9bec47"
      },
      "outputs": [
        {
          "name": "stdout",
          "output_type": "stream",
          "text": [
            "   Atributo 1  Atributo 2\n",
            "0           3           5\n",
            "1          -3           5\n",
            "2          -3          -1\n",
            "3           4          -2\n",
            "4           2          -3\n",
            "5           0          -4\n",
            "6          -1           0\n",
            "7           3           4\n",
            "8          -5           1\n",
            "9          -2          -3\n"
          ]
        }
      ],
      "source": [
        "# Este código genera un pandas dataframe con 10 ejemplos de 2 atributos discretos\n",
        "# en el intervalo (-5,5) generados de manera aleatoria\n",
        "\n",
        "N = 10\n",
        "df_discreto = pd.DataFrame({\n",
        "    'Atributo 1': [random.randint(-5, 5) for _ in range(N)],\n",
        "    'Atributo 2': [random.randint(-5, 5) for _ in range(N)]\n",
        "})\n",
        "\n",
        "print(df_discreto)"
      ]
    },
    {
      "cell_type": "markdown",
      "metadata": {
        "id": "nvDQvQOzWG0V"
      },
      "source": [
        "## Atributos categóricos\n",
        "Son aquellos atributos que pueden tomar sólo un número finito de valores dentro de un conjunto que puede no tener una relación de orden entre sus miembros.\n",
        "\n",
        "Por ejemplo, un atributo *color* que pueda tomar valores en el conjunto {*rojo*, *verde*, *azul*} es categórico porque NO existe una relación de orden entre rojo, verde y azul; es decir uno no va ni delante ni detrás de los otros.\n",
        "\n",
        "Sin embargo un atributo *dia_de_semana* con valores en el conjunto {*lunes*, *martes*, *miercoles*, *jueves*, *viernes*, *sábado*, *domingo*} además de ser categórico tiene una relación de orden entre sus elementos: *lunes* precede a todos, *miércoles* va antes que *sábado* pero después del *martes*, etc."
      ]
    },
    {
      "cell_type": "code",
      "execution_count": 18,
      "metadata": {
        "colab": {
          "base_uri": "https://localhost:8080/"
        },
        "id": "KGLdBKfoWiAu",
        "outputId": "7ffab4e4-2bff-475e-9987-0c0fa959836a"
      },
      "outputs": [
        {
          "name": "stdout",
          "output_type": "stream",
          "text": [
            "  Atributo 1 Atributo 2\n",
            "0     hombre      verde\n",
            "1     hombre      verde\n",
            "2     hombre       azul\n",
            "3     hombre      verde\n",
            "4      mujer      verde\n",
            "5     hombre       rojo\n",
            "6      mujer       rojo\n",
            "7     hombre       rojo\n",
            "8      mujer       rojo\n",
            "9     hombre      verde\n"
          ]
        }
      ],
      "source": [
        "# Este código genera un pandas dataframe con 10 ejemplos de 2 atributos categóricos\n",
        "\n",
        "N = 10\n",
        "df_categorico = pd.DataFrame({\n",
        "    'Atributo 1': [random.choice(['hombre', 'mujer']) for _ in range(N)],\n",
        "    'Atributo 2': [random.choice(['rojo', 'verde', 'azul']) for _ in range(N)],\n",
        "}, dtype=\"category\")\n",
        "\n",
        "print(df_categorico)"
      ]
    },
    {
      "cell_type": "markdown",
      "metadata": {
        "id": "-42dggXTdwU0"
      },
      "source": [
        "### Codificación de los datos categóricos\n",
        "\n",
        "Los datos continuos y discretos son números y por tanto no precisan de ninguna codificación.\n",
        "Sin embargo los datos categóricos son elementos de un conjunto y normalmente vienen descritos por palabras.\n",
        "\n",
        "Existe una relación biyectiva entre un conjunto de categorías y el conjunto de los números naturales.\n",
        "Esto significa que a cada elemento del conjunto de categorías se le puede asignar un número natural. Si lo hacemos estaremos **codificando** el atributo categórico.\n",
        "Hay dos maneras de hacer esto en Pandas:\n",
        "- Asignando un entero a cada elemento del conjunto\n",
        "- Utilizando una codificación *One-Hot*"
      ]
    },
    {
      "cell_type": "markdown",
      "metadata": {
        "id": "NDgLuIuFfny0"
      },
      "source": [
        "#### Codificación con enteros\n",
        "<hr>\n",
        "\n",
        "**Previo**:<br>\n",
        "Pandas distingue entre \"Series\" y \"DataFrames\".\n",
        "- Una Serie es el equivalente a un array o un vector, es decir una estructura de datos lineal con $N$ filas.\n",
        "- Un DataFrame es una tabla.\n",
        "\n",
        "Cuando seleccionamos una única columna de una DataFrame el resultado se convierte automáticamente en una Serie.\n",
        "<hr>\n",
        "\n",
        "Pandas permite codificar con enteros una Serie.\n",
        "<br>\n",
        "Por ejemplo:  `df_categorico['Atributo 1'].cat.codes`\n",
        "\n",
        "Si queremos codificar todos los atributos categóricos de un DataFrame debemos recorrer sus columnas ejecutando `cat.codes`.\n",
        "\n",
        "Para saber a qué categoría se corresponde cada entero lo mejor es ir creando un diccionario al mismo tiempo. Para ello utilizaremos primero `cat.categories` y luego juntaremos códigos y categorías en la estructura de datos `dict` de Python.\n"
      ]
    },
    {
      "cell_type": "code",
      "execution_count": 19,
      "metadata": {
        "colab": {
          "base_uri": "https://localhost:8080/"
        },
        "id": "IyzJCjS7Q5u_",
        "outputId": "6fef3cbd-3c68-46d6-b77d-9eb5e8b18a32"
      },
      "outputs": [
        {
          "name": "stdout",
          "output_type": "stream",
          "text": [
            "Diccionario código->categoría:  {0: 'hombre', 1: 'mujer'}\n",
            "Diccionario código->categoría:  {2: 'verde', 0: 'azul', 1: 'rojo'}\n"
          ]
        }
      ],
      "source": [
        "# En este ejemplo vamos a ver como funciona `cat.codes` y `cat.categories`\n",
        "# y creamos el diccionario de códigos a categorías.\n",
        "\n",
        "codes1 = df_categorico['Atributo 1'].cat.codes\n",
        "categ1 = df_categorico['Atributo 1'].cat.categories\n",
        "code_to_categ1 = dict(zip(codes1,df_categorico['Atributo 1']))\n",
        "\n",
        "codes2 = df_categorico['Atributo 2'].cat.codes\n",
        "categ2 = df_categorico['Atributo 2'].cat.categories\n",
        "code_to_categ2 = dict(zip(codes2,df_categorico['Atributo 2']))\n",
        "\n",
        "print('Diccionario código->categoría: ',code_to_categ1)\n",
        "print('Diccionario código->categoría: ',code_to_categ2)"
      ]
    },
    {
      "cell_type": "markdown",
      "metadata": {
        "id": "KnxeUqhfQ0wQ"
      },
      "source": [
        "Si queremos asignar nosotros el código en vez de dejar a Python que lo elija, entonces debemos crear un diccionario con todas las categorías y su respectivo código y después aplicarlo usando `map`.\n",
        "\n",
        "En el siguiente ejemplo lo hemos aplicado de dos maneras:\n",
        "\n",
        "1. Para \"Atributo1\" hemos obtenido la lista de valores únicos y luego hemos asignado a cada uno el entero que marca su posición en la lista.\n",
        "2. Para \"Atributo2\" hemos creado una lista con *todos* las categorias posibles (vamos a suponer que sólo  esos 10 colores son posibles) y luego hemos asignado a cada uno el entero correlativo, empezando por cero.<br>\n",
        "Si quisieramos cambiar el código sólo habría que cambiar el orden de los colores."
      ]
    },
    {
      "cell_type": "code",
      "execution_count": 20,
      "metadata": {
        "colab": {
          "base_uri": "https://localhost:8080/"
        },
        "id": "-gKh4oKlIkK2",
        "outputId": "488cedab-ed69-4909-eb7a-213d255d9c7c"
      },
      "outputs": [
        {
          "name": "stdout",
          "output_type": "stream",
          "text": [
            "Diccionario categoría->código:  {'hombre': 0, 'mujer': 1}\n",
            "0    0\n",
            "1    0\n",
            "2    0\n",
            "3    0\n",
            "4    1\n",
            "5    0\n",
            "6    1\n",
            "7    0\n",
            "8    1\n",
            "9    0\n",
            "Name: Atributo 1, dtype: category\n",
            "Categories (2, int64): [0, 1]\n",
            "Diccionario categoría->código:  {'blanco': 0, 'amarillo': 1, 'verde': 2, 'cian': 3, 'rosa': 4, 'azul': 5, 'morado': 6, 'rojo': 7, 'marrón': 8, 'gris': 9, 'negro': 10}\n",
            "0    2\n",
            "1    2\n",
            "2    5\n",
            "3    2\n",
            "4    2\n",
            "5    7\n",
            "6    7\n",
            "7    7\n",
            "8    7\n",
            "9    2\n",
            "Name: Atributo 2, dtype: category\n",
            "Categories (3, int64): [5, 7, 2]\n"
          ]
        }
      ],
      "source": [
        "# En este ejemplo vamos a crear el diccionario de categorías a códigos\n",
        "\n",
        "categorias1 = df_categorico['Atributo 1'].unique()\n",
        "categ_to_code1= {string: i for i, string in enumerate(categorias1)}\n",
        "categ1 = df_categorico['Atributo 1'].map(categ_to_code1)\n",
        "\n",
        "categorias2 = ['blanco','amarillo','verde','cian','rosa','azul','morado',\n",
        "               'rojo','marrón','gris','negro']\n",
        "categ_to_code2= {string: i for i, string in enumerate(categorias2)}\n",
        "categ2 = df_categorico['Atributo 2'].map(categ_to_code2)\n",
        "\n",
        "print('Diccionario categoría->código: ',categ_to_code1)\n",
        "print(categ1)\n",
        "\n",
        "print('Diccionario categoría->código: ',categ_to_code2)\n",
        "print(categ2)"
      ]
    },
    {
      "cell_type": "markdown",
      "metadata": {
        "id": "IXmtrh5PVNQW"
      },
      "source": [
        "Estos métodos están orientados a Series, es decir a columnas. <br>\n",
        "Si queremos cambiar todas las columnas categóricas por un código debemos hacerlo en un bucle PERO primero hay que identificar en cuales hay que actuar."
      ]
    },
    {
      "cell_type": "code",
      "execution_count": 21,
      "metadata": {
        "colab": {
          "base_uri": "https://localhost:8080/"
        },
        "id": "cNmwczDxIjuV",
        "outputId": "847eadd6-8109-499c-9588-d9402b7172db"
      },
      "outputs": [
        {
          "name": "stdout",
          "output_type": "stream",
          "text": [
            "   Atributo 1  Atributo 2\n",
            "0           0           2\n",
            "1           0           2\n",
            "2           0           0\n",
            "3           0           2\n",
            "4           1           2\n",
            "5           0           1\n",
            "6           1           1\n",
            "7           0           1\n",
            "8           1           1\n",
            "9           0           2\n",
            "{'Atributo 1': {0: 'hombre', 1: 'mujer'}, 'Atributo 2': {2: 'verde', 0: 'azul', 1: 'rojo'}}\n"
          ]
        }
      ],
      "source": [
        "# En este ejemplo vamos listar aquellas columnas que son categóricas\n",
        "# y luego vamos a codificarlas\n",
        "\n",
        "# 1) averiguamos las columnas categóricas\n",
        "cat_cols = df_categorico.select_dtypes(include='category').columns.tolist()\n",
        "# 2) creamos un dataframe con las columnas categóricas pero sin filas\n",
        "df_cat_coded = pd.DataFrame(columns=cat_cols)\n",
        "# 3) creamos un bucle que las recorra y las codifique, a la vez que..\n",
        "#    creamos una diccionario de diccionarios para descodificar en el futuro\n",
        "dict_decode={}\n",
        "for col in cat_cols:\n",
        "  codes = df_categorico[col].cat.codes\n",
        "  code_to_categ = dict(zip(codes,df_categorico[col]))\n",
        "  df_cat_coded[col] = codes\n",
        "  dict_decode[col] = code_to_categ\n",
        "\n",
        "print(df_cat_coded)\n",
        "print(dict_decode)"
      ]
    },
    {
      "cell_type": "markdown",
      "metadata": {
        "id": "-8TEXLgzJq1p"
      },
      "source": [
        "#### Codificación *One-hot*\n",
        "En esta codificación se crean tantas columnas como categorías diferentes hay por cada atributo categórico.<br>\n",
        "La codificación se realiza escribiendo un 1 en aquella columna que se corresponde con la categoría y un 0 en todas las demás.\n",
        "\n",
        "<u>_Por ejemplo_</u><br>\n",
        "Para una atributo \"Color\" con tres categorías {*Rojo*,*Verde*,*Azul*} la codificación One-hot crearía tres columnas: \"Rojo\". \"Verde\" y \"Azul\". A continuación, para un ejemplo de la tabla con atributo \"Color\"=\"Rojo\", pondría un 1 en la columna \"Rojo\" y un 0 en las otras dos. Y así con todos los ejemplos.\n",
        "\n",
        "Estas nuevas columnas reciben el nombre de **dummies**."
      ]
    },
    {
      "cell_type": "code",
      "execution_count": 22,
      "metadata": {
        "colab": {
          "base_uri": "https://localhost:8080/"
        },
        "id": "s10e00p6jLWG",
        "outputId": "36c76d6f-bb9a-4ca0-f67b-2f455a1cc5a5"
      },
      "outputs": [
        {
          "name": "stdout",
          "output_type": "stream",
          "text": [
            "  Atributo 1 Atributo 2  hombre  mujer\n",
            "0     hombre      verde    True  False\n",
            "1     hombre      verde    True  False\n",
            "2     hombre       azul    True  False\n",
            "3     hombre      verde    True  False\n",
            "4      mujer      verde   False   True\n",
            "5     hombre       rojo    True  False\n",
            "6      mujer       rojo   False   True\n",
            "7     hombre       rojo    True  False\n",
            "8      mujer       rojo   False   True\n",
            "9     hombre      verde    True  False\n"
          ]
        }
      ],
      "source": [
        "# En este ejemplo hacemos una codificación One-hot de \"Atributo 1\" del\n",
        "# dataframe \"df_categorical\"\n",
        "\n",
        "one_hot = pd.get_dummies(df_categorico['Atributo 1'])\n",
        "\n",
        "# Unir el dataframe original con el dataframe codificado\n",
        "df = pd.concat([df_categorico, one_hot], axis=1)\n",
        "\n",
        "print(df)"
      ]
    },
    {
      "cell_type": "code",
      "execution_count": 23,
      "metadata": {
        "colab": {
          "base_uri": "https://localhost:8080/"
        },
        "id": "lm4g6d-riSgD",
        "outputId": "ed5f52e0-e507-46cf-d0a0-31d8c2a3e177"
      },
      "outputs": [
        {
          "name": "stdout",
          "output_type": "stream",
          "text": [
            "   Atributo Categórico\n",
            "0                    0\n",
            "1                    1\n",
            "2                    1\n",
            "3                    2\n"
          ]
        }
      ],
      "source": [
        "# label encoding\n",
        "\n",
        "from sklearn.preprocessing import LabelEncoder\n",
        "import pandas as pd\n",
        "\n",
        "# Crear un dataframe de ejemplo\n",
        "df = pd.DataFrame({'Atributo Categórico': ['Gato', 'Perro', 'Perro', 'Pájaro']})\n",
        "\n",
        "# Codificar el atributo categórico con Label Encoding\n",
        "le = LabelEncoder()\n",
        "df['Atributo Categórico'] = le.fit_transform(df['Atributo Categórico'])\n",
        "\n",
        "print(df)\n"
      ]
    },
    {
      "cell_type": "markdown",
      "metadata": {
        "id": "N_wanqMVHxmk"
      },
      "source": [
        "# Utilidades extra"
      ]
    },
    {
      "cell_type": "markdown",
      "metadata": {
        "id": "mJdAETsqdeMU"
      },
      "source": [
        "Una tabla de datos puede tener atributos de todos los tipos sin problema.\n",
        "\n",
        "Eso sí, a la hora de manejarlos en dataframes de Pandas, es importante que cada atributo tenga un nombre diferente."
      ]
    },
    {
      "cell_type": "code",
      "execution_count": 24,
      "metadata": {
        "colab": {
          "base_uri": "https://localhost:8080/"
        },
        "id": "Hp5xBeIhdF5U",
        "outputId": "c612a48b-ba62-447f-a933-8a8767e84f7b"
      },
      "outputs": [
        {
          "name": "stdout",
          "output_type": "stream",
          "text": [
            "    atbCon1   atbCon2  atbDis1  atbDis2 atbCat1 atbCat2\n",
            "0  0.064457  0.588568        3        5  hombre   verde\n",
            "1  0.193589  0.004600       -3        5  hombre   verde\n",
            "2  0.111972  0.462281       -3       -1  hombre    azul\n",
            "3  0.638090  0.761807        4       -2  hombre   verde\n",
            "4  0.976907  0.272986        2       -3   mujer   verde\n",
            "5  0.519408  0.145943        0       -4  hombre    rojo\n",
            "6  0.626601  0.739445       -1        0   mujer    rojo\n",
            "7  0.068321  0.774807        3        4  hombre    rojo\n",
            "8  0.253299  0.755097       -5        1   mujer    rojo\n",
            "9  0.862840  0.225714       -2       -3  hombre   verde\n"
          ]
        }
      ],
      "source": [
        "df = pd.concat([df_continuo, df_discreto , df_categorico], axis=1)\n",
        "df.columns = ['atbCon1', 'atbCon2', 'atbDis1', 'atbDis2', 'atbCat1', 'atbCat2']\n",
        "\n",
        "print(df)"
      ]
    },
    {
      "cell_type": "markdown",
      "metadata": {
        "id": "2uVkBwuXKMxd"
      },
      "source": [
        "A lo largo del curso usaremos varias bibliotecas de Python.\n",
        "Las más importantes y frecuentes serán:\n",
        "\n",
        "| Biblioteca | Modo de importar | Utilidad |\n",
        "|----|----|----|\n",
        "| Pandas | `import pandas` | Manejo de datos tabulados |\n",
        "| Numpy  | `import numpy`  | Manejo de arrays n-dimensionales y funciones matemáticas|\n",
        "| Scipy  | `import scipy`  | Manejo de funciones matemáticas y distribuciones de probabilidad |\n",
        "| Scikit-learn | `import sklearn` | Biblioteca de ML |\n",
        "| Random | `import random` | Generación aleatoria\n",
        "| Matplotlib   | `from matplotlib import pyplot` | Generación de gráficos |\n",
        "\n",
        "En particular, en La biblioteca **SciKit-Learn** de Python podemos encontrar algunos métodos de codificación similares a los que hemos visto en Pandas. <br>\n",
        "Conviene conocerlos pero no los utilizaremos hasta que no empezemos a aprender modelos.\n",
        "\n",
        "| | |\n",
        "|----|----|\n",
        "| `preprocessing.LabelEncoder` | Encode target labels with value between 0 and n_classes-1 |\n",
        "| `preprocessing.OneHotEncoder` | Encode categorical features as a one-hot numeric array |\n",
        "| `preprocessing.OrdinalEncoder` | Encode categorical features as an integer array. |\n",
        "| `preprocessing.TargetEncoder` |  \tTarget Encoder for regression and classification targets |"
      ]
    },
    {
      "cell_type": "markdown",
      "metadata": {
        "id": "-qH-Q7vXH9vD"
      },
      "source": [
        "# Ejercicios"
      ]
    },
    {
      "cell_type": "markdown",
      "metadata": {
        "id": "dLElg0V1M0qg"
      },
      "source": [
        "Utilizar el método `factorize` de Pandas para crear una codificación de un atributo categórico.<br>\n",
        "¿Qué diferencia hay entre `factorize` y los métodos que hemos usado de codificación con enteros?"
      ]
    },
    {
      "cell_type": "markdown",
      "metadata": {
        "id": "I70CQWAXM5Ak"
      },
      "source": [
        "Al utilizar `get_dummies` hemos añadido dos columnas a la tabla (\"hombre\" y \"mujer\"), pero ¿cómo se eliminaría la columna \"Atributo 1\"?"
      ]
    },
    {
      "cell_type": "code",
      "execution_count": null,
      "metadata": {
        "id": "l4gPOOU2O0fD"
      },
      "outputs": [],
      "source": []
    }
  ],
  "metadata": {
    "colab": {
      "collapsed_sections": [
        "ptYt2MQ8Ub-U",
        "XnyIV8oPWc1N",
        "NDgLuIuFfny0"
      ],
      "provenance": []
    },
    "kernelspec": {
      "display_name": "Python 3",
      "name": "python3"
    },
    "language_info": {
      "codemirror_mode": {
        "name": "ipython",
        "version": 3
      },
      "file_extension": ".py",
      "mimetype": "text/x-python",
      "name": "python",
      "nbconvert_exporter": "python",
      "pygments_lexer": "ipython3",
      "version": "3.12.0"
    }
  },
  "nbformat": 4,
  "nbformat_minor": 0
}
